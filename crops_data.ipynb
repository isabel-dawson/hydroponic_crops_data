{
 "cells": [
  {
   "cell_type": "code",
   "execution_count": 1,
   "id": "179c7aa6-2cce-4348-83a4-ad36e7d030e1",
   "metadata": {},
   "outputs": [],
   "source": [
    "import numpy as np\n",
    "import pandas as pd"
   ]
  },
  {
   "cell_type": "markdown",
   "id": "0da87543-c20d-44bd-ace7-bbff77cc16b5",
   "metadata": {},
   "source": [
    "## Costs Breakdown\n",
    "\n",
    "#### Per greenhouse, one-time/fixed costs:\n",
    "- construction costs:\n",
    "    - materials (metal, glass, concrete, etc.)\n",
    "    - shipping of materials\n",
    "    - HVAC/electrical installation\n",
    "    - labor to set it up\n",
    "    - initial growing systems (may have to be replaced over time)\n",
    "    - initial lights (will have to be replaced over time)\n",
    "    - renovations\n",
    "    <p>\n",
    "- land:\n",
    "    - cost to buy the space (if bought instead of leased)\n",
    "    \n",
    "#### Per greenhouse, ongoing costs:\n",
    "- bureaucratic:\n",
    "    - taxes on the space if we own it \n",
    "    - legal fees\n",
    "    - permits\n",
    "    - lease on the space (if leasing insead of buying)\n",
    "    <p>\n",
    "- electricity:\n",
    "    - monthly energy expenditure of the farm (based on local energy prices) -- see note in whimsical \n",
    "<p>\n",
    "- plants/nutrients/water:\n",
    "    - cost of seeds\n",
    "    - shipping cost of seeds\n",
    "    - water \n",
    "    - nutrient solution\n",
    "    <p>\n",
    "- labor:\n",
    "    - payroll taxes\n",
    "    - wages for workers (x number of workers x hours worked)\n",
    "    - maintenance\n",
    "<p>\n",
    "- packaging and distribution:\n",
    "    - cost to distribute to people (driving?)\n",
    "    - packaging \n",
    "    - storage?\n",
    "    "
   ]
  },
  {
   "cell_type": "markdown",
   "id": "224c8c7e-f6fe-4731-afaf-eb3d8f490b4f",
   "metadata": {},
   "source": [
    "## Revenue Breakdown\n",
    "\n",
    "- average local price of produce * yield\n",
    "<p><p>OR\n",
    "- cost of CSA share * number of shares sold\n"
   ]
  },
  {
   "cell_type": "markdown",
   "id": "4e72e9dd-16e4-4213-990d-6c3f00d22b1d",
   "metadata": {},
   "source": [
    "## Crop Selection Rationale\n",
    "\n",
    "I will start out by finding information on the cost of seeds, average hydroponic yield per unit area, growing temperature, light usage, and water usage for a variety of lettuces that are commonly grown hydroponically, beefsteak tomatoes, spinach, cilantro, kale, cucumbers, and zucchini.  I then create a separate but similar database for perennial crops, including strawberries and bell peppers (more to come).  I chose these crops to build the database off of because they are some of the most popular commercially-produced, hydroponically-grown crops ([reference](https://journals.ashs.org/hortsci/view/journals/hortsci/55/6/article-p758.xml#:~:text=Fifty%2Dthree%20percent%20of%20the,floriculture%20to%20hydroponic%20food%20production.)).  \n",
    "\n",
    "After compiling this basic data, I will expand the database to include more crops as well as information regarding the nutrient requirements for each crop. \n"
   ]
  },
  {
   "cell_type": "markdown",
   "id": "5d094317-eb6d-4d25-9d6f-b0430dce0118",
   "metadata": {},
   "source": [
    "## \"One and Done\" (Annual) Crops Data"
   ]
  },
  {
   "cell_type": "markdown",
   "id": "5fb65c77-3d84-44a6-92f0-bafae0774e9b",
   "metadata": {},
   "source": [
    "\"One and done\" (or annual) crops are crops that you plant, allow to mature, harvest all at once or in a short period of time, and then they are done and you have to plant a new seed.  These types of plants usually reach maturity within 40 to 90 days.  Here I compile a database of different types of \"one and done\" crops along with information about their hydroponic growth requirements.  All sources are listed.\n",
    "\n",
    "Here are some general resources I used to help compile this data:\n",
    "- seed weight to number convertion chart: https://harvesttotable.com/vegetable_seeds_per_ounce_per/\n"
   ]
  },
  {
   "cell_type": "code",
   "execution_count": 81,
   "id": "bc878fe8-c26b-4d4e-9d37-0a8a36c8d536",
   "metadata": {},
   "outputs": [],
   "source": [
    "one_and_done_crops = pd.DataFrame()\n",
    "one_and_done_crops['name'] = []\n",
    "one_and_done_crops['10000 seeds cost ($)'] = []\n",
    "one_and_done_crops['plants per sqft'] = []\n",
    "one_and_done_crops['yield per plant (g) (low estimate)'] = []\n",
    "one_and_done_crops['yield per plant (g) (high estimate)'] = []\n",
    "one_and_done_crops['plant spacing (inches)'] = []\n",
    "one_and_done_crops['min temp (degrees F)'] = []\n",
    "one_and_done_crops['max temp (degrees F)'] = []\n",
    "one_and_done_crops['days to harvest (low estimate)'] = [] \n",
    "one_and_done_crops['days to harvest (high estimate)'] = []\n",
    "one_and_done_crops['water usage (L water/kg fresh crop)'] = []\n",
    "one_and_done_crops['min hours of light'] = []\n",
    "one_and_done_crops['max hours of light'] = []"
   ]
  },
  {
   "cell_type": "markdown",
   "id": "fc60e7e2-feed-45b3-8373-ab8b2acd1c48",
   "metadata": {},
   "source": [
    "#### <u>Salad Bowl Lettuce</u>:\n",
    "\n",
    "<p>Note: I am using the conversation rate of 882 lettuce seeds/g found here: https://www.trueleafmarket.com/pages/seed-counts-and-germination<p>\n",
    "    \n",
    "References: \n",
    "\n",
    "- bulk seed prices: https://startinggardens.com/products/lettuce-seed-salad-bowl-green-1-2-ounce-pack-10-000-plus-seeds?variant=32664145428531\n",
    "- harvest weight: https://journals.ashs.org/downloadpdf/journals/horttech/30/5/article-p632.pdf\n",
    "- water usage: https://www.ncbi.nlm.nih.gov/pmc/articles/PMC4483736/#:~:text=Specifically%2C%20hydroponic%20lettuce%20production%20had,%2Fy%20(Figure%202).&text=Modeled%20annual%20water%20use%20in,southwestern%20Arizona%20using%20hydroponic%20vs.\n",
    "- hours of light: https://hydrobuilder.com/learn/hydroponic-lettuce/#:~:text=How%20Much%20Light%20Does%20Hydroponic,first%20starting%20your%20lettuce%20garden.\n"
   ]
  },
  {
   "cell_type": "code",
   "execution_count": 82,
   "id": "1a5b1b5c-dd77-451a-8468-88c3805c518d",
   "metadata": {},
   "outputs": [],
   "source": [
    "one_and_done_crops.loc[len(one_and_done_crops.index)] = ['salad bowl lettuce', 5.99, 1.538, 220, 240, 6, 45, 70, 40, 50, 3.00, 16, 18]"
   ]
  },
  {
   "cell_type": "markdown",
   "id": "1b394d8b-86bf-4de8-874c-6b7a32169938",
   "metadata": {},
   "source": [
    "#### <u>Beefsteak Tomatoes</u>:"
   ]
  },
  {
   "cell_type": "markdown",
   "id": "658a77cd-aebd-4607-89fb-11d6bc5df953",
   "metadata": {},
   "source": [
    "References:\n",
    "- bulk seed prices: https://www.edenbrothers.com/products/tomato_seeds_beefsteak?gclid=Cj0KCQjw54iXBhCXARIsADWpsG9Cc_FW0u9PF8s0T6q7Y0K1TdaxR4hslKvHgUn-srRf5Zpe9tugwpIaAvRPEALw_wcB\n",
    "- plant spacing: https://hydrogardengeek.com/grow-hydroponic-tomatoes/\n",
    "- time to harvest: https://soakandsoil.com/how-fast-do-hydroponic-tomatoes-grow/\n",
    "- water usage: https://edepot.wur.nl/156932"
   ]
  },
  {
   "cell_type": "code",
   "execution_count": 83,
   "id": "c94d2573-9b95-41ff-8eb7-8668c8d39003",
   "metadata": {},
   "outputs": [],
   "source": [
    "one_and_done_crops.loc[len(one_and_done_crops.index)] = ['beefsteak tomatoes', 19.95, 1, 9000, 11000, 12, 60, 75, 60, 80, 15, 16, 18]"
   ]
  },
  {
   "cell_type": "markdown",
   "id": "d0cd75d5-24d8-4d19-bdda-fe6e6bdcb841",
   "metadata": {},
   "source": [
    "#### <u>Kale (Premier)</u>:"
   ]
  },
  {
   "cell_type": "markdown",
   "id": "e0d8ba4d-39a6-4c0d-9bb8-b983d599fb60",
   "metadata": {},
   "source": [
    "References:\n",
    "- bulk seed prices:https://www.bulkseedstore.com/store/bulk-kale-seeds-premier.html\n",
    "- yield per sqft:\n",
    "- weight:https://www.greenhousegrower.com/crops/vegetables/5-top-takeaways-from-trial-of-hydroponic-kale-cultivars/\n",
    "- plant spacing:\n",
    "- temp:https://www.google.com/search?q=celcius+to+f&oq=celcius+to+f&aqs=chrome..69i57j6j0i10i433j0i512j0i10j0i512l2j0i10l2j0i512.1841j0j7&sourceid=chrome&ie=UTF-8\n",
    "- time to harvest:\n",
    "- water usage: https://www.researchgate.net/figure/Water-consumption-range-of-different-crops-cultivated-using-hydroponic-system_tbl1_342298647\n",
    "- hours of light:https://whyfarmit.com/hydroponic-kale/#:~:text=The%20standard%20EC%20level%20for,is%20between%205.5%20and%206.5."
   ]
  },
  {
   "cell_type": "code",
   "execution_count": 85,
   "id": "7dc1cbb3-76d4-4a90-b9d3-d32e59714866",
   "metadata": {},
   "outputs": [],
   "source": [
    "one_and_done_crops.loc[len(one_and_done_crops.index)] = ['premier kale', 9.50, 1, 440, 480, 12, 55, 75, 55, 75, 55.6, 6, 10]"
   ]
  },
  {
   "cell_type": "code",
   "execution_count": 86,
   "id": "dd49504f-a57b-4270-9426-d39ded3c474f",
   "metadata": {},
   "outputs": [
    {
     "data": {
      "text/html": [
       "<div>\n",
       "<style scoped>\n",
       "    .dataframe tbody tr th:only-of-type {\n",
       "        vertical-align: middle;\n",
       "    }\n",
       "\n",
       "    .dataframe tbody tr th {\n",
       "        vertical-align: top;\n",
       "    }\n",
       "\n",
       "    .dataframe thead th {\n",
       "        text-align: right;\n",
       "    }\n",
       "</style>\n",
       "<table border=\"1\" class=\"dataframe\">\n",
       "  <thead>\n",
       "    <tr style=\"text-align: right;\">\n",
       "      <th></th>\n",
       "      <th>name</th>\n",
       "      <th>10000 seeds cost ($)</th>\n",
       "      <th>plants per sqft</th>\n",
       "      <th>yield per plant (g) (low estimate)</th>\n",
       "      <th>yield per plant (g) (high estimate)</th>\n",
       "      <th>plant spacing (inches)</th>\n",
       "      <th>min temp (degrees F)</th>\n",
       "      <th>max temp (degrees F)</th>\n",
       "      <th>days to harvest (low estimate)</th>\n",
       "      <th>days to harvest (high estimate)</th>\n",
       "      <th>water usage (L water/kg fresh crop)</th>\n",
       "      <th>min hours of light</th>\n",
       "      <th>max hours of light</th>\n",
       "    </tr>\n",
       "  </thead>\n",
       "  <tbody>\n",
       "    <tr>\n",
       "      <th>0</th>\n",
       "      <td>salad bowl lettuce</td>\n",
       "      <td>5.99</td>\n",
       "      <td>1.538</td>\n",
       "      <td>220</td>\n",
       "      <td>240</td>\n",
       "      <td>6</td>\n",
       "      <td>45</td>\n",
       "      <td>70</td>\n",
       "      <td>40</td>\n",
       "      <td>50</td>\n",
       "      <td>3.0</td>\n",
       "      <td>16</td>\n",
       "      <td>18</td>\n",
       "    </tr>\n",
       "    <tr>\n",
       "      <th>1</th>\n",
       "      <td>beefsteak tomatoes</td>\n",
       "      <td>19.95</td>\n",
       "      <td>1.000</td>\n",
       "      <td>9000</td>\n",
       "      <td>11000</td>\n",
       "      <td>12</td>\n",
       "      <td>60</td>\n",
       "      <td>75</td>\n",
       "      <td>60</td>\n",
       "      <td>80</td>\n",
       "      <td>15.0</td>\n",
       "      <td>16</td>\n",
       "      <td>18</td>\n",
       "    </tr>\n",
       "    <tr>\n",
       "      <th>2</th>\n",
       "      <td>premier kale</td>\n",
       "      <td>9.50</td>\n",
       "      <td>1.000</td>\n",
       "      <td>440</td>\n",
       "      <td>480</td>\n",
       "      <td>12</td>\n",
       "      <td>55</td>\n",
       "      <td>75</td>\n",
       "      <td>55</td>\n",
       "      <td>75</td>\n",
       "      <td>55.6</td>\n",
       "      <td>6</td>\n",
       "      <td>10</td>\n",
       "    </tr>\n",
       "  </tbody>\n",
       "</table>\n",
       "</div>"
      ],
      "text/plain": [
       "                 name  10000 seeds cost ($)  plants per sqft  \\\n",
       "0  salad bowl lettuce                  5.99            1.538   \n",
       "1  beefsteak tomatoes                 19.95            1.000   \n",
       "2        premier kale                  9.50            1.000   \n",
       "\n",
       "   yield per plant (g) (low estimate)  yield per plant (g) (high estimate)  \\\n",
       "0                                 220                                  240   \n",
       "1                                9000                                11000   \n",
       "2                                 440                                  480   \n",
       "\n",
       "   plant spacing (inches)  min temp (degrees F)  max temp (degrees F)  \\\n",
       "0                       6                    45                    70   \n",
       "1                      12                    60                    75   \n",
       "2                      12                    55                    75   \n",
       "\n",
       "   days to harvest (low estimate)  days to harvest (high estimate)  \\\n",
       "0                              40                               50   \n",
       "1                              60                               80   \n",
       "2                              55                               75   \n",
       "\n",
       "   water usage (L water/kg fresh crop)  min hours of light  max hours of light  \n",
       "0                                  3.0                  16                  18  \n",
       "1                                 15.0                  16                  18  \n",
       "2                                 55.6                   6                  10  "
      ]
     },
     "execution_count": 86,
     "metadata": {},
     "output_type": "execute_result"
    }
   ],
   "source": [
    "one_and_done_crops = one_and_done_crops.drop_duplicates()\n",
    "one_and_done_crops"
   ]
  },
  {
   "cell_type": "markdown",
   "id": "621a7df2-189c-4b9e-80f0-a7addbfc0968",
   "metadata": {},
   "source": [
    "## Perennial Crops Data"
   ]
  },
  {
   "cell_type": "markdown",
   "id": "e440b2bc-8e1f-440d-9292-7144c2518002",
   "metadata": {},
   "source": [
    "Perennial crops, as opposed to \"one and done\" crops, grow from seed and reach maturity and then once they are mature, they produce harvests continuously or routinely for a period of a year or more.  They take longer on average to reach maturity compared to \"one and done\" crops, but their fruiting period is much longer and the initial wait is worth the long harvest period."
   ]
  },
  {
   "cell_type": "code",
   "execution_count": 90,
   "id": "51b578a8-7605-43d7-8e22-2095cd6a8460",
   "metadata": {},
   "outputs": [
    {
     "data": {
      "text/html": [
       "<div>\n",
       "<style scoped>\n",
       "    .dataframe tbody tr th:only-of-type {\n",
       "        vertical-align: middle;\n",
       "    }\n",
       "\n",
       "    .dataframe tbody tr th {\n",
       "        vertical-align: top;\n",
       "    }\n",
       "\n",
       "    .dataframe thead th {\n",
       "        text-align: right;\n",
       "    }\n",
       "</style>\n",
       "<table border=\"1\" class=\"dataframe\">\n",
       "  <thead>\n",
       "    <tr style=\"text-align: right;\">\n",
       "      <th></th>\n",
       "      <th>name</th>\n",
       "      <th>10000 seeds cost ($)</th>\n",
       "      <th>plants per sqft</th>\n",
       "      <th>plant spacing (inches)</th>\n",
       "      <th>time to first harvest from seed</th>\n",
       "      <th>harvest period length</th>\n",
       "      <th>harvest (g)/day</th>\n",
       "      <th>lifetime harvest (g)</th>\n",
       "      <th>min temp (degrees F)</th>\n",
       "      <th>max temp (degrees F)</th>\n",
       "      <th>water usage (L water/kg fresh crop)</th>\n",
       "      <th>min hours of light</th>\n",
       "      <th>max hours of light</th>\n",
       "    </tr>\n",
       "  </thead>\n",
       "  <tbody>\n",
       "  </tbody>\n",
       "</table>\n",
       "</div>"
      ],
      "text/plain": [
       "Empty DataFrame\n",
       "Columns: [name, 10000 seeds cost ($), plants per sqft, plant spacing (inches), time to first harvest from seed, harvest period length, harvest (g)/day, lifetime harvest (g), min temp (degrees F), max temp (degrees F), water usage (L water/kg fresh crop), min hours of light, max hours of light]\n",
       "Index: []"
      ]
     },
     "execution_count": 90,
     "metadata": {},
     "output_type": "execute_result"
    }
   ],
   "source": [
    "perennial_crops = pd.DataFrame()\n",
    "perennial_crops['name'] = []\n",
    "perennial_crops['10000 seeds cost ($)'] = []\n",
    "perennial_crops['plants per sqft'] = []\n",
    "perennial_crops['plant spacing (inches)'] = []\n",
    "perennial_crops['time to first harvest from seed'] = []\n",
    "perennial_crops['harvest period length'] = []\n",
    "## the g harvest / day gives the average grams of the crop that are harvested during its harvest period.\n",
    "perennial_crops['harvest (g)/day'] = []\n",
    "perennial_crops['lifetime harvest (g)'] = []\n",
    "perennial_crops['min temp (degrees F)'] = []\n",
    "perennial_crops['max temp (degrees F)'] = []\n",
    "perennial_crops['water usage (L water/kg fresh crop)'] = []\n",
    "perennial_crops['min hours of light'] = []\n",
    "perennial_crops['max hours of light'] = []\n",
    "perennial_crops"
   ]
  },
  {
   "cell_type": "markdown",
   "id": "34419b16-e796-40b7-a452-b307f908276a",
   "metadata": {},
   "source": [
    "#### <u>Strawberries</u>:"
   ]
  },
  {
   "cell_type": "markdown",
   "id": "d45df49d-6564-44e3-a142-a985b34ea263",
   "metadata": {},
   "source": [
    "References:\n",
    "- bulk seed prices: https://www.ufseeds.com/product/giant-strawberry-seeds---5000-seeds/STGI-5000-seeds.html?gclid=Cj0KCQjw54iXBhCXARIsADWpsG8Hypsp1S9aS7gDhNlH7cL8vqo9c1GE7JEQQo7oC25IReny0c3j0ZQaAvaVEALw_wcB\n",
    "- yield per sqft:\n",
    "- weight:\n",
    "- plant spacing:https://smartpots.com/growing-hydroponic-strawberries/#:~:text=Hydroponic%20strawberries%20need%20plenty%20of,shallow%2C%20soft%2Dsided%20containers.\n",
    "- temp:https://hydrobuilder.com/learn/hydroponic-strawberries/#:~:text=It%20really%20comes%20down%20to,a%20shorter%20time%20to%20harvest. (65-75)\n",
    "- time to harvest:\n",
    "- water usage: \n",
    "- hours of light:https://hydrobuilder.com/learn/hydroponic-strawberries/#:~:text=It%20really%20comes%20down%20to,a%20shorter%20time%20to%20harvest."
   ]
  },
  {
   "cell_type": "code",
   "execution_count": null,
   "id": "73479272-0645-471a-9353-32b8439f6873",
   "metadata": {},
   "outputs": [],
   "source": [
    "perennial_crops.loc[len(perennial_crops.index)] = ['strawberries', 240, 2, 6, \n"
   ]
  },
  {
   "cell_type": "code",
   "execution_count": 91,
   "id": "2891d2c2-84a5-4c24-a7a8-1ba9d8c66f7d",
   "metadata": {},
   "outputs": [
    {
     "data": {
      "text/html": [
       "<div>\n",
       "<style scoped>\n",
       "    .dataframe tbody tr th:only-of-type {\n",
       "        vertical-align: middle;\n",
       "    }\n",
       "\n",
       "    .dataframe tbody tr th {\n",
       "        vertical-align: top;\n",
       "    }\n",
       "\n",
       "    .dataframe thead th {\n",
       "        text-align: right;\n",
       "    }\n",
       "</style>\n",
       "<table border=\"1\" class=\"dataframe\">\n",
       "  <thead>\n",
       "    <tr style=\"text-align: right;\">\n",
       "      <th></th>\n",
       "      <th>name</th>\n",
       "      <th>10000 seeds cost ($)</th>\n",
       "      <th>plants per sqft</th>\n",
       "      <th>plant spacing (inches)</th>\n",
       "      <th>time to first harvest from seed</th>\n",
       "      <th>harvest period length</th>\n",
       "      <th>harvest (g)/day</th>\n",
       "      <th>lifetime harvest (g)</th>\n",
       "      <th>min temp (degrees F)</th>\n",
       "      <th>max temp (degrees F)</th>\n",
       "      <th>water usage (L water/kg fresh crop)</th>\n",
       "      <th>min hours of light</th>\n",
       "      <th>max hours of light</th>\n",
       "    </tr>\n",
       "  </thead>\n",
       "  <tbody>\n",
       "  </tbody>\n",
       "</table>\n",
       "</div>"
      ],
      "text/plain": [
       "Empty DataFrame\n",
       "Columns: [name, 10000 seeds cost ($), plants per sqft, plant spacing (inches), time to first harvest from seed, harvest period length, harvest (g)/day, lifetime harvest (g), min temp (degrees F), max temp (degrees F), water usage (L water/kg fresh crop), min hours of light, max hours of light]\n",
       "Index: []"
      ]
     },
     "execution_count": 91,
     "metadata": {},
     "output_type": "execute_result"
    }
   ],
   "source": [
    "perennial_crops"
   ]
  },
  {
   "cell_type": "markdown",
   "id": "2fae4acd-998d-45e6-8280-915918f9e17e",
   "metadata": {},
   "source": [
    "#### <u>Bell Peppers</u>:"
   ]
  },
  {
   "cell_type": "markdown",
   "id": "c966bbb8-31b9-444b-a6d9-da0ac776675f",
   "metadata": {},
   "source": [
    "References:\n",
    "- spacing: https://www.nosoilsolutions.com/how-to-grow-hydroponic-bell-peppers/  (18 inches)\n",
    "- seed prices: https://www.edenbrothers.com/products/rainbow-bell-pepper-seeds"
   ]
  },
  {
   "cell_type": "code",
   "execution_count": null,
   "id": "d1dec616-51fc-41d6-a54b-a6d6cf611c4d",
   "metadata": {},
   "outputs": [],
   "source": [
    "perennial_crops.loc[len(perennial_crops.index)] = ['bell peppers', 119.9, .667, , , 18, \n"
   ]
  },
  {
   "cell_type": "code",
   "execution_count": 79,
   "id": "55d50213-b90d-4339-af5c-5296c33ff4ff",
   "metadata": {},
   "outputs": [
    {
     "data": {
      "text/html": [
       "<div>\n",
       "<style scoped>\n",
       "    .dataframe tbody tr th:only-of-type {\n",
       "        vertical-align: middle;\n",
       "    }\n",
       "\n",
       "    .dataframe tbody tr th {\n",
       "        vertical-align: top;\n",
       "    }\n",
       "\n",
       "    .dataframe thead th {\n",
       "        text-align: right;\n",
       "    }\n",
       "</style>\n",
       "<table border=\"1\" class=\"dataframe\">\n",
       "  <thead>\n",
       "    <tr style=\"text-align: right;\">\n",
       "      <th></th>\n",
       "      <th>name</th>\n",
       "      <th>10000 seeds cost ($)</th>\n",
       "      <th>plants per sqft</th>\n",
       "      <th>yield per plant (g) (low estimate)</th>\n",
       "      <th>yield per plant (g) (high estimate)</th>\n",
       "      <th>plant spacing (inches)</th>\n",
       "      <th>min temp (degrees F)</th>\n",
       "      <th>max temp (degrees F)</th>\n",
       "      <th>days to harvest (low estimate)</th>\n",
       "      <th>days to harvest (high estimate)</th>\n",
       "      <th>water usage (L water/kg fresh crop)</th>\n",
       "      <th>min hours of light</th>\n",
       "      <th>max hours of light</th>\n",
       "    </tr>\n",
       "  </thead>\n",
       "  <tbody>\n",
       "    <tr>\n",
       "      <th>0</th>\n",
       "      <td>beefsteak tomatoes</td>\n",
       "      <td>19.95</td>\n",
       "      <td>1.000</td>\n",
       "      <td>9000</td>\n",
       "      <td>11000</td>\n",
       "      <td>12</td>\n",
       "      <td>60</td>\n",
       "      <td>75</td>\n",
       "      <td>60</td>\n",
       "      <td>80</td>\n",
       "      <td>15.0</td>\n",
       "      <td>16</td>\n",
       "      <td>18</td>\n",
       "    </tr>\n",
       "    <tr>\n",
       "      <th>1</th>\n",
       "      <td>salad bowl lettuce</td>\n",
       "      <td>5.99</td>\n",
       "      <td>1.538</td>\n",
       "      <td>220</td>\n",
       "      <td>240</td>\n",
       "      <td>6</td>\n",
       "      <td>45</td>\n",
       "      <td>70</td>\n",
       "      <td>40</td>\n",
       "      <td>50</td>\n",
       "      <td>3.0</td>\n",
       "      <td>16</td>\n",
       "      <td>18</td>\n",
       "    </tr>\n",
       "    <tr>\n",
       "      <th>2</th>\n",
       "      <td>premier kale</td>\n",
       "      <td>9.50</td>\n",
       "      <td>1.000</td>\n",
       "      <td>440</td>\n",
       "      <td>480</td>\n",
       "      <td>12</td>\n",
       "      <td>55</td>\n",
       "      <td>75</td>\n",
       "      <td>55</td>\n",
       "      <td>75</td>\n",
       "      <td>55.6</td>\n",
       "      <td>6</td>\n",
       "      <td>10</td>\n",
       "    </tr>\n",
       "  </tbody>\n",
       "</table>\n",
       "</div>"
      ],
      "text/plain": [
       "                 name  10000 seeds cost ($)  plants per sqft  \\\n",
       "0  beefsteak tomatoes                 19.95            1.000   \n",
       "1  salad bowl lettuce                  5.99            1.538   \n",
       "2        premier kale                  9.50            1.000   \n",
       "\n",
       "   yield per plant (g) (low estimate)  yield per plant (g) (high estimate)  \\\n",
       "0                                9000                                11000   \n",
       "1                                 220                                  240   \n",
       "2                                 440                                  480   \n",
       "\n",
       "   plant spacing (inches)  min temp (degrees F)  max temp (degrees F)  \\\n",
       "0                      12                    60                    75   \n",
       "1                       6                    45                    70   \n",
       "2                      12                    55                    75   \n",
       "\n",
       "   days to harvest (low estimate)  days to harvest (high estimate)  \\\n",
       "0                              60                               80   \n",
       "1                              40                               50   \n",
       "2                              55                               75   \n",
       "\n",
       "   water usage (L water/kg fresh crop)  min hours of light  max hours of light  \n",
       "0                                 15.0                  16                  18  \n",
       "1                                  3.0                  16                  18  \n",
       "2                                 55.6                   6                  10  "
      ]
     },
     "execution_count": 79,
     "metadata": {},
     "output_type": "execute_result"
    }
   ],
   "source": [
    "perennial_crops = crops_data.drop_duplicates()\n",
    "perennial_crops"
   ]
  },
  {
   "cell_type": "code",
   "execution_count": null,
   "id": "ba638462-7a33-42d9-8631-f913d7554be6",
   "metadata": {},
   "outputs": [],
   "source": []
  },
  {
   "cell_type": "code",
   "execution_count": null,
   "id": "2eac455b-b2cb-472d-9792-303a1a8d022a",
   "metadata": {},
   "outputs": [],
   "source": []
  }
 ],
 "metadata": {
  "kernelspec": {
   "display_name": "Python 3 (ipykernel)",
   "language": "python",
   "name": "python3"
  },
  "language_info": {
   "codemirror_mode": {
    "name": "ipython",
    "version": 3
   },
   "file_extension": ".py",
   "mimetype": "text/x-python",
   "name": "python",
   "nbconvert_exporter": "python",
   "pygments_lexer": "ipython3",
   "version": "3.9.13"
  }
 },
 "nbformat": 4,
 "nbformat_minor": 5
}
