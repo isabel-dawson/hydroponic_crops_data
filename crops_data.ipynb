{
 "cells": [
  {
   "cell_type": "code",
   "execution_count": 1,
   "id": "179c7aa6-2cce-4348-83a4-ad36e7d030e1",
   "metadata": {},
   "outputs": [],
   "source": [
    "import numpy as np\n",
    "import pandas as pd"
   ]
  },
  {
   "cell_type": "markdown",
   "id": "0da87543-c20d-44bd-ace7-bbff77cc16b5",
   "metadata": {},
   "source": [
    "## Costs Breakdown\n",
    "\n",
    "#### Per greenhouse, one-time/fixed costs:\n",
    "- construction costs:\n",
    "    - materials (metal, glass, concrete, etc.)\n",
    "    - shipping of materials\n",
    "    - HVAC/electrical installation\n",
    "    - labor to set it up\n",
    "    - initial growing systems (may have to be replaced over time)\n",
    "    - initial lights (will have to be replaced over time)\n",
    "    - renovations\n",
    "    <p>\n",
    "- land:\n",
    "    - cost to buy the space (if bought instead of leased)\n",
    "    \n",
    "#### Per greenhouse, ongoing costs:\n",
    "- bureaucratic:\n",
    "    - taxes on the space if we own it \n",
    "    - legal fees\n",
    "    - permits\n",
    "    - lease on the space (if leasing insead of buying)\n",
    "    <p>\n",
    "- electricity:\n",
    "    - monthly energy expenditure of the farm (based on local energy prices) -- see note in whimsical \n",
    "<p>\n",
    "- plants/nutrients/water:\n",
    "    - cost of seeds\n",
    "    - shipping cost of seeds\n",
    "    - water \n",
    "    - nutrient solution\n",
    "    <p>\n",
    "- labor:\n",
    "    - payroll taxes\n",
    "    - wages for workers (x number of workers x hours worked)\n",
    "    - maintenance\n",
    "<p>\n",
    "- packaging and distribution:\n",
    "    - cost to distribute to people (driving?)\n",
    "    - packaging \n",
    "    - storage?\n",
    "    "
   ]
  },
  {
   "cell_type": "markdown",
   "id": "224c8c7e-f6fe-4731-afaf-eb3d8f490b4f",
   "metadata": {},
   "source": [
    "## Revenue Breakdown\n",
    "\n",
    "- average local price of produce * yield\n",
    "<p><p>OR\n",
    "- cost of CSA share * number of shares sold\n"
   ]
  },
  {
   "cell_type": "markdown",
   "id": "4e72e9dd-16e4-4213-990d-6c3f00d22b1d",
   "metadata": {},
   "source": [
    "## Crop Data Selection Rationale\n",
    "\n",
    "I will start out by finding information on the cost of seeds, average hydroponic yield per unit area, growing temperature, light usage, and water usage for a variety of lettuces that are commonly grown hydroponically, beefsteak tomatoes, strawberries, bell peppers, spinach, cilantro, kale, cucumbers, and zucchini because these are some of the most popular hydroponically produced crops ([reference](https://journals.ashs.org/hortsci/view/journals/hortsci/55/6/article-p758.xml#:~:text=Fifty%2Dthree%20percent%20of%20the,floriculture%20to%20hydroponic%20food%20production.)).  \n",
    "\n",
    "After compiling this basic data, I will expand the database to include more crops as well as information regarding the nutrient requirements for each crop. \n"
   ]
  },
  {
   "cell_type": "markdown",
   "id": "5d094317-eb6d-4d25-9d6f-b0430dce0118",
   "metadata": {},
   "source": [
    "## Crop Data"
   ]
  },
  {
   "cell_type": "markdown",
   "id": "5fb65c77-3d84-44a6-92f0-bafae0774e9b",
   "metadata": {},
   "source": [
    "This is a database of different types of crops along with information about their hydroponic growth requirements.  All data sources are listed."
   ]
  },
  {
   "cell_type": "code",
   "execution_count": 38,
   "id": "bc878fe8-c26b-4d4e-9d37-0a8a36c8d536",
   "metadata": {},
   "outputs": [],
   "source": [
    "crops_data = pd.DataFrame()\n",
    "crops_data['name'] = []\n",
    "crops_data['1 oz seeds cost ($)'] = []\n",
    "crops_data['.25 lb seeds cost ($)'] = []\n",
    "crops_data['1 lb seeds cost ($)'] = []\n",
    "crops_data['5 lb seeds cost ($)'] = []\n",
    "crops_data['yield (plants) per sqft'] = []\n",
    "crops_data['weight of one plant\\'s yield fresh (g)'] = []\n",
    "crops_data['plant spacing (inches)'] = []\n",
    "crops_data['min temp (degrees F)'] = []\n",
    "crops_data['max temp (degrees F)'] = []\n",
    "crops_data['days to harvest (low estimate)'] = [] \n",
    "crops_data['days to harvest (high estimate)'] = []\n",
    "crops_data['water usage (L water/kg fresh crop)'] = []\n",
    "crops_data['min hours of light'] = []\n",
    "crops_data['max hours of light'] = []"
   ]
  },
  {
   "cell_type": "markdown",
   "id": "fc60e7e2-feed-45b3-8373-ab8b2acd1c48",
   "metadata": {},
   "source": [
    "#### <u>Salad Bowl Lettuce</u>:\n",
    "\n",
    "References: \n",
    "- bulk seed prices: https://www.bulkseedstore.com/store/bulk-lettuce-seeds-salad-bowl-green.html\n",
    "- harvest weight: https://journals.ashs.org/downloadpdf/journals/horttech/30/5/article-p632.pdf\n",
    "- water usage: https://www.ncbi.nlm.nih.gov/pmc/articles/PMC4483736/#:~:text=Specifically%2C%20hydroponic%20lettuce%20production%20had,%2Fy%20(Figure%202).&text=Modeled%20annual%20water%20use%20in,southwestern%20Arizona%20using%20hydroponic%20vs.\n",
    "- hours of light: https://hydrobuilder.com/learn/hydroponic-lettuce/#:~:text=How%20Much%20Light%20Does%20Hydroponic,first%20starting%20your%20lettuce%20garden.\n"
   ]
  },
  {
   "cell_type": "code",
   "execution_count": 39,
   "id": "1a5b1b5c-dd77-451a-8468-88c3805c518d",
   "metadata": {},
   "outputs": [],
   "source": [
    "crops_data.loc[len(crops_data.index)] = ['salad bowl lettuce', 7.79, 19.55, 42.09, 146.95, 1.538, 229.1, 6, 45, 70, 40, 50, 3.00, 16, 18]\n"
   ]
  },
  {
   "cell_type": "markdown",
   "id": "1b394d8b-86bf-4de8-874c-6b7a32169938",
   "metadata": {},
   "source": [
    "#### <u>Roma Tomatoes</u>:"
   ]
  },
  {
   "cell_type": "markdown",
   "id": "658a77cd-aebd-4607-89fb-11d6bc5df953",
   "metadata": {},
   "source": [
    "References:\n",
    "- bulk seed prices: https://www.bulkseedstore.com/store/bulk-tomato-seeds-beefsteak.html\n",
    "- plant spacing: https://hydrogardengeek.com/grow-hydroponic-tomatoes/\n",
    "- time to harvest: https://soakandsoil.com/how-fast-do-hydroponic-tomatoes-grow/\n",
    "- water usage: https://edepot.wur.nl/156932"
   ]
  },
  {
   "cell_type": "code",
   "execution_count": 40,
   "id": "c94d2573-9b95-41ff-8eb7-8668c8d39003",
   "metadata": {},
   "outputs": [],
   "source": [
    "crops_data.loc[len(crops_data.index)] = ['beefsteak tomatoes', 19.55, 46.99, 117.55, np.nan, 1, 10000, 12, 60, 75, 60, 80, 15, 16, 18]\n"
   ]
  },
  {
   "cell_type": "markdown",
   "id": "d0cd75d5-24d8-4d19-bdda-fe6e6bdcb841",
   "metadata": {},
   "source": [
    "#### <u>Kale (Premier)</u>"
   ]
  },
  {
   "cell_type": "markdown",
   "id": "e0d8ba4d-39a6-4c0d-9bb8-b983d599fb60",
   "metadata": {},
   "source": [
    "References:\n",
    "- bulk seed prices:https://www.bulkseedstore.com/store/bulk-kale-seeds-premier.html\n",
    "- yield per sqft:\n",
    "- weight:https://www.greenhousegrower.com/crops/vegetables/5-top-takeaways-from-trial-of-hydroponic-kale-cultivars/\n",
    "- plant spacing:\n",
    "- temp:https://www.google.com/search?q=celcius+to+f&oq=celcius+to+f&aqs=chrome..69i57j6j0i10i433j0i512j0i10j0i512l2j0i10l2j0i512.1841j0j7&sourceid=chrome&ie=UTF-8\n",
    "- time to harvest:\n",
    "- water usage: https://www.researchgate.net/figure/Water-consumption-range-of-different-crops-cultivated-using-hydroponic-system_tbl1_342298647\n",
    "- hours of light:https://whyfarmit.com/hydroponic-kale/#:~:text=The%20standard%20EC%20level%20for,is%20between%205.5%20and%206.5."
   ]
  },
  {
   "cell_type": "code",
   "execution_count": 41,
   "id": "7dc1cbb3-76d4-4a90-b9d3-d32e59714866",
   "metadata": {},
   "outputs": [],
   "source": [
    "crops_data.loc[len(crops_data.index)] = ['premier kale', 7.60, 17.59, 39.15, 119.51, 1, 468, 12, 55, 75, 55, 75, 55.6, 6, 10]\n"
   ]
  },
  {
   "cell_type": "code",
   "execution_count": 42,
   "id": "55d50213-b90d-4339-af5c-5296c33ff4ff",
   "metadata": {},
   "outputs": [
    {
     "data": {
      "text/html": [
       "<div>\n",
       "<style scoped>\n",
       "    .dataframe tbody tr th:only-of-type {\n",
       "        vertical-align: middle;\n",
       "    }\n",
       "\n",
       "    .dataframe tbody tr th {\n",
       "        vertical-align: top;\n",
       "    }\n",
       "\n",
       "    .dataframe thead th {\n",
       "        text-align: right;\n",
       "    }\n",
       "</style>\n",
       "<table border=\"1\" class=\"dataframe\">\n",
       "  <thead>\n",
       "    <tr style=\"text-align: right;\">\n",
       "      <th></th>\n",
       "      <th>name</th>\n",
       "      <th>1 oz seeds cost ($)</th>\n",
       "      <th>.25 lb seeds cost ($)</th>\n",
       "      <th>1 lb seeds cost ($)</th>\n",
       "      <th>5 lb seeds cost ($)</th>\n",
       "      <th>yield (plants) per sqft</th>\n",
       "      <th>weight of one plant's yield fresh (g)</th>\n",
       "      <th>plant spacing (inches)</th>\n",
       "      <th>min temp (degrees F)</th>\n",
       "      <th>max temp (degrees F)</th>\n",
       "      <th>days to harvest (low estimate)</th>\n",
       "      <th>days to harvest (high estimate)</th>\n",
       "      <th>water usage (L water/kg fresh crop)</th>\n",
       "      <th>min hours of light</th>\n",
       "      <th>max hours of light</th>\n",
       "    </tr>\n",
       "  </thead>\n",
       "  <tbody>\n",
       "    <tr>\n",
       "      <th>0</th>\n",
       "      <td>salad bowl lettuce</td>\n",
       "      <td>7.79</td>\n",
       "      <td>19.55</td>\n",
       "      <td>42.09</td>\n",
       "      <td>146.95</td>\n",
       "      <td>1.538</td>\n",
       "      <td>229.1</td>\n",
       "      <td>6</td>\n",
       "      <td>45</td>\n",
       "      <td>70</td>\n",
       "      <td>40</td>\n",
       "      <td>50</td>\n",
       "      <td>3.0</td>\n",
       "      <td>16</td>\n",
       "      <td>18</td>\n",
       "    </tr>\n",
       "    <tr>\n",
       "      <th>1</th>\n",
       "      <td>beefsteak tomatoes</td>\n",
       "      <td>19.55</td>\n",
       "      <td>46.99</td>\n",
       "      <td>117.55</td>\n",
       "      <td>NaN</td>\n",
       "      <td>1.000</td>\n",
       "      <td>10000.0</td>\n",
       "      <td>12</td>\n",
       "      <td>60</td>\n",
       "      <td>75</td>\n",
       "      <td>60</td>\n",
       "      <td>80</td>\n",
       "      <td>15.0</td>\n",
       "      <td>16</td>\n",
       "      <td>18</td>\n",
       "    </tr>\n",
       "    <tr>\n",
       "      <th>2</th>\n",
       "      <td>premier kale</td>\n",
       "      <td>7.60</td>\n",
       "      <td>17.59</td>\n",
       "      <td>39.15</td>\n",
       "      <td>119.51</td>\n",
       "      <td>1.000</td>\n",
       "      <td>468.0</td>\n",
       "      <td>12</td>\n",
       "      <td>55</td>\n",
       "      <td>75</td>\n",
       "      <td>55</td>\n",
       "      <td>75</td>\n",
       "      <td>55.6</td>\n",
       "      <td>6</td>\n",
       "      <td>10</td>\n",
       "    </tr>\n",
       "  </tbody>\n",
       "</table>\n",
       "</div>"
      ],
      "text/plain": [
       "                 name  1 oz seeds cost ($)  .25 lb seeds cost ($)  \\\n",
       "0  salad bowl lettuce                 7.79                  19.55   \n",
       "1  beefsteak tomatoes                19.55                  46.99   \n",
       "2        premier kale                 7.60                  17.59   \n",
       "\n",
       "   1 lb seeds cost ($)  5 lb seeds cost ($)  yield (plants) per sqft  \\\n",
       "0                42.09               146.95                    1.538   \n",
       "1               117.55                  NaN                    1.000   \n",
       "2                39.15               119.51                    1.000   \n",
       "\n",
       "   weight of one plant's yield fresh (g)  plant spacing (inches)  \\\n",
       "0                                  229.1                       6   \n",
       "1                                10000.0                      12   \n",
       "2                                  468.0                      12   \n",
       "\n",
       "   min temp (degrees F)  max temp (degrees F)  days to harvest (low estimate)  \\\n",
       "0                    45                    70                              40   \n",
       "1                    60                    75                              60   \n",
       "2                    55                    75                              55   \n",
       "\n",
       "   days to harvest (high estimate)  water usage (L water/kg fresh crop)  \\\n",
       "0                               50                                  3.0   \n",
       "1                               80                                 15.0   \n",
       "2                               75                                 55.6   \n",
       "\n",
       "   min hours of light  max hours of light  \n",
       "0                  16                  18  \n",
       "1                  16                  18  \n",
       "2                   6                  10  "
      ]
     },
     "execution_count": 42,
     "metadata": {},
     "output_type": "execute_result"
    }
   ],
   "source": [
    "crops_data = crops_data.drop_duplicates()\n",
    "crops_data"
   ]
  },
  {
   "cell_type": "code",
   "execution_count": null,
   "id": "ba638462-7a33-42d9-8631-f913d7554be6",
   "metadata": {},
   "outputs": [],
   "source": []
  },
  {
   "cell_type": "code",
   "execution_count": null,
   "id": "2eac455b-b2cb-472d-9792-303a1a8d022a",
   "metadata": {},
   "outputs": [],
   "source": []
  }
 ],
 "metadata": {
  "kernelspec": {
   "display_name": "Python 3 (ipykernel)",
   "language": "python",
   "name": "python3"
  },
  "language_info": {
   "codemirror_mode": {
    "name": "ipython",
    "version": 3
   },
   "file_extension": ".py",
   "mimetype": "text/x-python",
   "name": "python",
   "nbconvert_exporter": "python",
   "pygments_lexer": "ipython3",
   "version": "3.9.13"
  }
 },
 "nbformat": 4,
 "nbformat_minor": 5
}
